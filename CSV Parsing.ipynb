{
 "cells": [
  {
   "cell_type": "markdown",
   "metadata": {},
   "source": [
    "pandas 0.23.4\n",
    "- important module in Data Analysis in Python\n",
    "\n",
    "pycountry 18.12.8\n",
    "- provides the ISO databases.\n"
   ]
  },
  {
   "cell_type": "code",
   "execution_count": 32,
   "metadata": {},
   "outputs": [],
   "source": [
    "import pandas as pd\n",
    "import pycountry as pc"
   ]
  },
  {
   "cell_type": "markdown",
   "metadata": {},
   "source": [
    "Open `plik.csv` as dataframe `plik` without header and with `,` as separator in csv"
   ]
  },
  {
   "cell_type": "code",
   "execution_count": 22,
   "metadata": {},
   "outputs": [],
   "source": [
    "plik=pd.read_csv(\"plik.csv\", header=None, sep=\",\")"
   ]
  },
  {
   "cell_type": "markdown",
   "metadata": {},
   "source": [
    "Print `plik` with a large file, display the first 5 results `plik.head()`"
   ]
  },
  {
   "cell_type": "code",
   "execution_count": 23,
   "metadata": {},
   "outputs": [
    {
     "data": {
      "text/html": [
       "<div>\n",
       "<style scoped>\n",
       "    .dataframe tbody tr th:only-of-type {\n",
       "        vertical-align: middle;\n",
       "    }\n",
       "\n",
       "    .dataframe tbody tr th {\n",
       "        vertical-align: top;\n",
       "    }\n",
       "\n",
       "    .dataframe thead th {\n",
       "        text-align: right;\n",
       "    }\n",
       "</style>\n",
       "<table border=\"1\" class=\"dataframe\">\n",
       "  <thead>\n",
       "    <tr style=\"text-align: right;\">\n",
       "      <th></th>\n",
       "      <th>0</th>\n",
       "      <th>1</th>\n",
       "      <th>2</th>\n",
       "      <th>3</th>\n",
       "    </tr>\n",
       "  </thead>\n",
       "  <tbody>\n",
       "    <tr>\n",
       "      <th>0</th>\n",
       "      <td>01/21/2019</td>\n",
       "      <td>Mandiana</td>\n",
       "      <td>883</td>\n",
       "      <td>0.38%</td>\n",
       "    </tr>\n",
       "    <tr>\n",
       "      <th>1</th>\n",
       "      <td>01/21/2019</td>\n",
       "      <td>Lola</td>\n",
       "      <td>76</td>\n",
       "      <td>0.78%</td>\n",
       "    </tr>\n",
       "    <tr>\n",
       "      <th>2</th>\n",
       "      <td>01/21/2019</td>\n",
       "      <td>Fāryāb</td>\n",
       "      <td>919</td>\n",
       "      <td>0.67%</td>\n",
       "    </tr>\n",
       "    <tr>\n",
       "      <th>3</th>\n",
       "      <td>01/22/2019</td>\n",
       "      <td>Lola</td>\n",
       "      <td>201</td>\n",
       "      <td>0.82%</td>\n",
       "    </tr>\n",
       "    <tr>\n",
       "      <th>4</th>\n",
       "      <td>01/22/2019</td>\n",
       "      <td>Berou</td>\n",
       "      <td>139</td>\n",
       "      <td>0.61%</td>\n",
       "    </tr>\n",
       "    <tr>\n",
       "      <th>5</th>\n",
       "      <td>01/22/2019</td>\n",
       "      <td>Mandiana</td>\n",
       "      <td>1050</td>\n",
       "      <td>0.93%</td>\n",
       "    </tr>\n",
       "    <tr>\n",
       "      <th>6</th>\n",
       "      <td>01/23/2019</td>\n",
       "      <td>?</td>\n",
       "      <td>777</td>\n",
       "      <td>0.22%</td>\n",
       "    </tr>\n",
       "    <tr>\n",
       "      <th>7</th>\n",
       "      <td>01/23/2019</td>\n",
       "      <td>Gaoual</td>\n",
       "      <td>72</td>\n",
       "      <td>0.7%</td>\n",
       "    </tr>\n",
       "    <tr>\n",
       "      <th>8</th>\n",
       "      <td>01/23/2019</td>\n",
       "      <td>Lola</td>\n",
       "      <td>512</td>\n",
       "      <td>0.19%</td>\n",
       "    </tr>\n",
       "    <tr>\n",
       "      <th>9</th>\n",
       "      <td>01/24/2019</td>\n",
       "      <td>Beroun</td>\n",
       "      <td>620</td>\n",
       "      <td>0.1%</td>\n",
       "    </tr>\n",
       "    <tr>\n",
       "      <th>10</th>\n",
       "      <td>01/24/2019</td>\n",
       "      <td>Unknown</td>\n",
       "      <td>586</td>\n",
       "      <td>0.86%</td>\n",
       "    </tr>\n",
       "    <tr>\n",
       "      <th>11</th>\n",
       "      <td>01/24/2019</td>\n",
       "      <td>?</td>\n",
       "      <td>1082</td>\n",
       "      <td>0.68%</td>\n",
       "    </tr>\n",
       "  </tbody>\n",
       "</table>\n",
       "</div>"
      ],
      "text/plain": [
       "             0         1     2      3\n",
       "0   01/21/2019  Mandiana   883  0.38%\n",
       "1   01/21/2019      Lola    76  0.78%\n",
       "2   01/21/2019    Fāryāb   919  0.67%\n",
       "3   01/22/2019      Lola   201  0.82%\n",
       "4   01/22/2019     Berou   139  0.61%\n",
       "5   01/22/2019  Mandiana  1050  0.93%\n",
       "6   01/23/2019         ?   777  0.22%\n",
       "7   01/23/2019    Gaoual    72   0.7%\n",
       "8   01/23/2019      Lola   512  0.19%\n",
       "9   01/24/2019    Beroun   620   0.1%\n",
       "10  01/24/2019   Unknown   586  0.86%\n",
       "11  01/24/2019         ?  1082  0.68%"
      ]
     },
     "execution_count": 23,
     "metadata": {},
     "output_type": "execute_result"
    }
   ],
   "source": [
    "plik"
   ]
  },
  {
   "cell_type": "markdown",
   "metadata": {},
   "source": [
    "It gives new headings for ease of operation: \n",
    "- Data\n",
    "- Subdivisions\n",
    "- Number\n",
    "- Percent"
   ]
  },
  {
   "cell_type": "code",
   "execution_count": 24,
   "metadata": {},
   "outputs": [],
   "source": [
    "plik.columns = ['Data', 'Subdivisions', 'Number','Percent']"
   ]
  },
  {
   "cell_type": "markdown",
   "metadata": {},
   "source": [
    "change the column Data to datatime format"
   ]
  },
  {
   "cell_type": "code",
   "execution_count": null,
   "metadata": {},
   "outputs": [],
   "source": [
    "plik['Data'] = pd.to_datetime(plik['Data'], format='%m/%d/%Y')"
   ]
  },
  {
   "cell_type": "markdown",
   "metadata": {},
   "source": [
    "change the column Percent to float without \"%\""
   ]
  },
  {
   "cell_type": "code",
   "execution_count": 26,
   "metadata": {},
   "outputs": [],
   "source": [
    "plik['Percent'] = (plik['Percent'].str.rstrip('%')).astype('float')"
   ]
  },
  {
   "cell_type": "markdown",
   "metadata": {},
   "source": [
    "Create new column `CountryCode` with country code format `XXX` for subdivisions"
   ]
  },
  {
   "cell_type": "code",
   "execution_count": 27,
   "metadata": {},
   "outputs": [],
   "source": [
    "def get_country_code(name):\n",
    "    \"\"\"find the country code to the subdivisions name\"\"\"\n",
    "    for co in pc.subdivisions:\n",
    "        if name in co.name:\n",
    "            return co.country_code\n",
    "    return 'XXX'\n",
    "\n",
    "def get_country_code_alpha_3(name):\n",
    "    \"\"\"find the country code format XXX to country code format XX\"\"\"\n",
    "    for co in pc.countries:\n",
    "        if name == 'XXX':\n",
    "            return 'XXX'\n",
    "        if name in co.alpha_2:\n",
    "            return co.alpha_3\n",
    "    return 'XXX'\n",
    "kod=[]\n",
    "names = plik['Subdivisions']\n",
    "for name in names:\n",
    "    code = get_country_code(name)\n",
    "    kod.append(code)\n",
    "    \n",
    "names2 = kod\n",
    "kod_alpha_3 = []\n",
    "for name in names2:\n",
    "    code = get_country_code_alpha_3(name)\n",
    "    kod_alpha_3.append(code)\n",
    "    \n",
    "plik['CountryCode'] = kod_alpha_3\n"
   ]
  },
  {
   "cell_type": "markdown",
   "metadata": {},
   "source": [
    "Create new column `Clicks` that are the value of equation `( number * percent )/100`"
   ]
  },
  {
   "cell_type": "code",
   "execution_count": 28,
   "metadata": {},
   "outputs": [],
   "source": [
    "plik.insert(loc=5, column='Clicks', value=(round(((plik.Number * plik.Percent)/100),0)).astype('int'))"
   ]
  },
  {
   "cell_type": "markdown",
   "metadata": {},
   "source": [
    "Group by columns `Data` and `CountryCode`"
   ]
  },
  {
   "cell_type": "code",
   "execution_count": 29,
   "metadata": {},
   "outputs": [],
   "source": [
    "group = plik.groupby(by=[\"Data\", 'CountryCode'])"
   ]
  },
  {
   "cell_type": "markdown",
   "metadata": {},
   "source": [
    "Print new group with sum of values in rows for columns `Number` and `Click`"
   ]
  },
  {
   "cell_type": "code",
   "execution_count": 30,
   "metadata": {},
   "outputs": [
    {
     "data": {
      "text/html": [
       "<div>\n",
       "<style scoped>\n",
       "    .dataframe tbody tr th:only-of-type {\n",
       "        vertical-align: middle;\n",
       "    }\n",
       "\n",
       "    .dataframe tbody tr th {\n",
       "        vertical-align: top;\n",
       "    }\n",
       "\n",
       "    .dataframe thead th {\n",
       "        text-align: right;\n",
       "    }\n",
       "</style>\n",
       "<table border=\"1\" class=\"dataframe\">\n",
       "  <thead>\n",
       "    <tr style=\"text-align: right;\">\n",
       "      <th></th>\n",
       "      <th></th>\n",
       "      <th>Number</th>\n",
       "      <th>Clicks</th>\n",
       "    </tr>\n",
       "    <tr>\n",
       "      <th>Data</th>\n",
       "      <th>CountryCode</th>\n",
       "      <th></th>\n",
       "      <th></th>\n",
       "    </tr>\n",
       "  </thead>\n",
       "  <tbody>\n",
       "    <tr>\n",
       "      <th rowspan=\"2\" valign=\"top\">2019-01-21</th>\n",
       "      <th>AFG</th>\n",
       "      <td>919</td>\n",
       "      <td>6</td>\n",
       "    </tr>\n",
       "    <tr>\n",
       "      <th>GIN</th>\n",
       "      <td>959</td>\n",
       "      <td>4</td>\n",
       "    </tr>\n",
       "    <tr>\n",
       "      <th rowspan=\"2\" valign=\"top\">2019-01-22</th>\n",
       "      <th>CZE</th>\n",
       "      <td>139</td>\n",
       "      <td>1</td>\n",
       "    </tr>\n",
       "    <tr>\n",
       "      <th>GIN</th>\n",
       "      <td>1251</td>\n",
       "      <td>12</td>\n",
       "    </tr>\n",
       "    <tr>\n",
       "      <th>2019-01-23</th>\n",
       "      <th>GIN</th>\n",
       "      <td>584</td>\n",
       "      <td>2</td>\n",
       "    </tr>\n",
       "  </tbody>\n",
       "</table>\n",
       "</div>"
      ],
      "text/plain": [
       "                        Number  Clicks\n",
       "Data       CountryCode                \n",
       "2019-01-21 AFG             919       6\n",
       "           GIN             959       4\n",
       "2019-01-22 CZE             139       1\n",
       "           GIN            1251      12\n",
       "2019-01-23 GIN             584       2"
      ]
     },
     "execution_count": 30,
     "metadata": {},
     "output_type": "execute_result"
    }
   ],
   "source": [
    "group['Number', 'Clicks'].sum().head()"
   ]
  },
  {
   "cell_type": "markdown",
   "metadata": {},
   "source": [
    "Write group to `new.csv` with separator `,`, with new header, without index. New plik will be saved in the same folder as this notebook. "
   ]
  },
  {
   "cell_type": "code",
   "execution_count": 31,
   "metadata": {},
   "outputs": [],
   "source": [
    "group['Number', 'Clicks'].sum().reset_index().to_csv('new.csv')"
   ]
  }
 ],
 "metadata": {
  "kernelspec": {
   "display_name": "Python 3",
   "language": "python",
   "name": "python3"
  },
  "language_info": {
   "codemirror_mode": {
    "name": "ipython",
    "version": 3
   },
   "file_extension": ".py",
   "mimetype": "text/x-python",
   "name": "python",
   "nbconvert_exporter": "python",
   "pygments_lexer": "ipython3",
   "version": "3.7.1"
  }
 },
 "nbformat": 4,
 "nbformat_minor": 2
}
